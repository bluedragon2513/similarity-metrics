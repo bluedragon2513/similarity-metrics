{
 "cells": [
  {
   "cell_type": "markdown",
   "metadata": {},
   "source": [
    "# Imports"
   ]
  },
  {
   "cell_type": "code",
   "execution_count": 1,
   "metadata": {},
   "outputs": [],
   "source": [
    "import scanpy as sc\n",
    "from scanorama import scanorama\n",
    "from adata_preprocessing import *\n",
    "from runner import *"
   ]
  },
  {
   "cell_type": "markdown",
   "metadata": {},
   "source": [
    "# Getting the data"
   ]
  },
  {
   "cell_type": "code",
   "execution_count": 2,
   "metadata": {},
   "outputs": [],
   "source": [
    "adata = sc.read_h5ad(\"../data/preprocessed/human_pancreas_norm_complexBatch.h5ad\")\n",
    "batches = filter_batches(adata)"
   ]
  },
  {
   "cell_type": "markdown",
   "metadata": {},
   "source": [
    "# Running"
   ]
  },
  {
   "cell_type": "markdown",
   "metadata": {},
   "source": [
    "## No Preprocessing"
   ]
  },
  {
   "cell_type": "code",
   "execution_count": null,
   "metadata": {},
   "outputs": [],
   "source": [
    "run(algorithm=scanorama, data=\"data/preprocessed/human_pancreas_norm_complexBatch.h5ad\", verbose=None)\n",
    "run(algorithm=scanorama, data=\"data/preprocessed/human_pancreas_norm_complexBatch.h5ad\", verbose=None, similarity_function=amwjmsi)"
   ]
  },
  {
   "cell_type": "markdown",
   "metadata": {},
   "source": [
    "## Cell Type Preprocessing"
   ]
  },
  {
   "cell_type": "code",
   "execution_count": null,
   "metadata": {},
   "outputs": [],
   "source": [
    "run(algorithm=scanorama, batch_normalize=None, celltype_normalize=scib_normalize, verbose=None)\n",
    "run(algorithm=scanorama, batch_normalize=None, celltype_normalize=scib_normalize, verbose=None, similarity_function=amwjmsi)"
   ]
  },
  {
   "cell_type": "markdown",
   "metadata": {},
   "source": [
    "## Batch Preprocessing"
   ]
  },
  {
   "cell_type": "code",
   "execution_count": null,
   "metadata": {},
   "outputs": [],
   "source": [
    "run(algorithm=scanorama, batch_normalize=scib_normalize, celltype_normalize=None, verbose=None)\n",
    "run(algorithm=scanorama, batch_normalize=scib_normalize, celltype_normalize=None, verbose=None, similarity_function=amwjmsi)"
   ]
  },
  {
   "cell_type": "markdown",
   "metadata": {},
   "source": [
    "## Dataset Preprocessing"
   ]
  },
  {
   "cell_type": "code",
   "execution_count": null,
   "metadata": {},
   "outputs": [],
   "source": [
    "run(algorithm=scanorama, dataset_normalize=scib_normalize, verbose=None)\n",
    "run(algorithm=scanorama, dataset_normalize=scib_normalize, verbose=None, similarity_function=amwjmsi)"
   ]
  }
 ],
 "metadata": {
  "kernelspec": {
   "display_name": "Python 3",
   "language": "python",
   "name": "python3"
  },
  "language_info": {
   "codemirror_mode": {
    "name": "ipython",
    "version": 3
   },
   "file_extension": ".py",
   "mimetype": "text/x-python",
   "name": "python",
   "nbconvert_exporter": "python",
   "pygments_lexer": "ipython3",
   "version": "3.12.2"
  }
 },
 "nbformat": 4,
 "nbformat_minor": 2
}
