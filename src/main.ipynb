{
 "cells": [
  {
   "cell_type": "markdown",
   "metadata": {},
   "source": [
    "# Imports"
   ]
  },
  {
   "cell_type": "code",
   "execution_count": 27,
   "metadata": {},
   "outputs": [
    {
     "ename": "ModuleNotFoundError",
     "evalue": "No module named 'src'",
     "output_type": "error",
     "traceback": [
      "\u001b[0;31m---------------------------------------------------------------------------\u001b[0m",
      "\u001b[0;31mModuleNotFoundError\u001b[0m                       Traceback (most recent call last)",
      "\u001b[1;32m/Users/carsonnannini/Research/similarity-metrics/src/main.ipynb Cell 2\u001b[0m line \u001b[0;36m4\n\u001b[1;32m      <a href='vscode-notebook-cell:/Users/carsonnannini/Research/similarity-metrics/src/main.ipynb#W1sZmlsZQ%3D%3D?line=1'>2</a>\u001b[0m \u001b[39mfrom\u001b[39;00m \u001b[39mmetrics\u001b[39;00m\u001b[39m.\u001b[39;00m\u001b[39mScanorama\u001b[39;00m\u001b[39m.\u001b[39;00m\u001b[39mscanorama\u001b[39;00m \u001b[39mimport\u001b[39;00m scanorama\n\u001b[1;32m      <a href='vscode-notebook-cell:/Users/carsonnannini/Research/similarity-metrics/src/main.ipynb#W1sZmlsZQ%3D%3D?line=2'>3</a>\u001b[0m \u001b[39mfrom\u001b[39;00m \u001b[39mlibrary\u001b[39;00m\u001b[39m.\u001b[39;00m\u001b[39madata_preprocessing\u001b[39;00m \u001b[39mimport\u001b[39;00m \u001b[39m*\u001b[39m\n\u001b[0;32m----> <a href='vscode-notebook-cell:/Users/carsonnannini/Research/similarity-metrics/src/main.ipynb#W1sZmlsZQ%3D%3D?line=3'>4</a>\u001b[0m \u001b[39mfrom\u001b[39;00m \u001b[39mlibrary\u001b[39;00m\u001b[39m.\u001b[39;00m\u001b[39mrunner\u001b[39;00m \u001b[39mimport\u001b[39;00m \u001b[39m*\u001b[39m\n\u001b[1;32m      <a href='vscode-notebook-cell:/Users/carsonnannini/Research/similarity-metrics/src/main.ipynb#W1sZmlsZQ%3D%3D?line=4'>5</a>\u001b[0m \u001b[39mimport\u001b[39;00m \u001b[39mpickle\u001b[39;00m\n",
      "File \u001b[0;32m~/Research/similarity-metrics/src/library/runner.py:7\u001b[0m\n\u001b[1;32m      5\u001b[0m sys\u001b[39m.\u001b[39mpath\u001b[39m.\u001b[39mappend(os\u001b[39m.\u001b[39mgetcwd())\n\u001b[1;32m      6\u001b[0m     \u001b[39m# user libraries\u001b[39;00m\n\u001b[0;32m----> 7\u001b[0m \u001b[39mfrom\u001b[39;00m \u001b[39msrc\u001b[39;00m\u001b[39m.\u001b[39;00m\u001b[39mlibrary\u001b[39;00m\u001b[39m.\u001b[39;00m\u001b[39mscorer\u001b[39;00m \u001b[39mimport\u001b[39;00m \u001b[39m*\u001b[39m\n\u001b[1;32m      8\u001b[0m \u001b[39mfrom\u001b[39;00m \u001b[39msrc\u001b[39;00m\u001b[39m.\u001b[39;00m\u001b[39mlibrary\u001b[39;00m\u001b[39m.\u001b[39;00m\u001b[39madata_preprocessing\u001b[39;00m \u001b[39mimport\u001b[39;00m \u001b[39m*\u001b[39m\n\u001b[1;32m      9\u001b[0m \u001b[39mfrom\u001b[39;00m \u001b[39msrc\u001b[39;00m\u001b[39m.\u001b[39;00m\u001b[39mlibrary\u001b[39;00m\u001b[39m.\u001b[39;00m\u001b[39mplotter\u001b[39;00m \u001b[39mimport\u001b[39;00m plotter\n",
      "File \u001b[0;32m~/Research/similarity-metrics/src/library/scorer.py:9\u001b[0m\n\u001b[1;32m      7\u001b[0m \u001b[39mfrom\u001b[39;00m \u001b[39mtyping\u001b[39;00m \u001b[39mimport\u001b[39;00m List, Callable\n\u001b[1;32m      8\u001b[0m     \u001b[39m# user libraries\u001b[39;00m\n\u001b[0;32m----> 9\u001b[0m \u001b[39mfrom\u001b[39;00m \u001b[39msrc\u001b[39;00m\u001b[39m.\u001b[39;00m\u001b[39mmetrics\u001b[39;00m\u001b[39m.\u001b[39;00m\u001b[39mScanorama\u001b[39;00m\u001b[39m.\u001b[39;00m\u001b[39mscanorama\u001b[39;00m \u001b[39mimport\u001b[39;00m scanorama\n\u001b[1;32m     10\u001b[0m \u001b[39mfrom\u001b[39;00m \u001b[39msrc\u001b[39;00m\u001b[39m.\u001b[39;00m\u001b[39mlibrary\u001b[39;00m\u001b[39m.\u001b[39;00m\u001b[39mcombiner\u001b[39;00m \u001b[39mimport\u001b[39;00m mwjmsi, amwjmsi, gjsi\n\u001b[1;32m     11\u001b[0m \u001b[39mfrom\u001b[39;00m \u001b[39msrc\u001b[39;00m\u001b[39m.\u001b[39;00m\u001b[39mlibrary\u001b[39;00m\u001b[39m.\u001b[39;00m\u001b[39mscorer\u001b[39;00m \u001b[39mimport\u001b[39;00m \u001b[39m*\u001b[39m\n",
      "\u001b[0;31mModuleNotFoundError\u001b[0m: No module named 'src'"
     ]
    }
   ],
   "source": [
    "import scanpy as sc\n",
    "from metrics.Scanorama.scanorama import scanorama\n",
    "from library.adata_preprocessing import *\n",
    "from library.runner import *\n",
    "import pickle"
   ]
  },
  {
   "cell_type": "markdown",
   "metadata": {},
   "source": [
    "# Getting the data"
   ]
  },
  {
   "cell_type": "code",
   "execution_count": 21,
   "metadata": {},
   "outputs": [],
   "source": [
    "adata = sc.read_h5ad(\"../data/preprocessed/human_pancreas_norm_complexBatch.h5ad\")\n",
    "batches = filter_batches(adata)"
   ]
  },
  {
   "cell_type": "markdown",
   "metadata": {},
   "source": [
    "# Running"
   ]
  },
  {
   "cell_type": "markdown",
   "metadata": {},
   "source": [
    "## Experimentation"
   ]
  },
  {
   "cell_type": "code",
   "execution_count": 29,
   "metadata": {},
   "outputs": [
    {
     "name": "stdout",
     "output_type": "stream",
     "text": [
      "c:\\Users\\Blued\\Documents\\Programming\\Research\\similarity-metrics\\src\n"
     ]
    }
   ],
   "source": [
    "print(os.getcwd())"
   ]
  },
  {
   "cell_type": "code",
   "execution_count": 36,
   "metadata": {},
   "outputs": [],
   "source": [
    "with open(\"../data/pancreas/kruskal/dataset_normalize/celltype-scores-mwjmsi.pkl\", \"rb\") as f:  \n",
    "    d1 = pickle.load(f)\n",
    "with open(\"../data/pancreas/kruskal/dataset_normalize/celltype-scores-amwjmsi.pkl\", \"rb\") as f:  \n",
    "    d2 = pickle.load(f)"
   ]
  },
  {
   "cell_type": "code",
   "execution_count": 38,
   "metadata": {},
   "outputs": [
    {
     "name": "stdout",
     "output_type": "stream",
     "text": [
      "celseq celseq 0.9999927302198364 0.9999927302198364\n",
      "celseq celseq2 0.3026003645402249 0.3026003645402249\n",
      "celseq fluidigmc1 0.2424500312950603 0.2424500312950603\n",
      "celseq inDrop1 0.1892094607510259 0.1892094607510259\n",
      "celseq inDrop2 0.24551722718190544 0.24551722718190544\n",
      "celseq inDrop3 0.17265954608725442 0.17265954608725442\n",
      "celseq inDrop4 0.29795900635837297 0.29795900635837297\n",
      "celseq smarter 0.12783476879634592 0.12783476879634592\n",
      "celseq smartseq2 0.27670376193797674 0.27670376193797674\n",
      "celseq2 celseq2 0.9999979397181176 0.9999979397181176\n",
      "celseq2 fluidigmc1 0.16384881691826297 0.16384881691826297\n",
      "celseq2 inDrop1 0.2588359650812651 0.2588359650812651\n",
      "celseq2 inDrop2 0.40623906292830086 0.40623906292830086\n",
      "celseq2 inDrop3 0.321903284382238 0.321903284382238\n",
      "celseq2 inDrop4 0.3045704078001932 0.3045704078001932\n",
      "celseq2 smarter 0.37420564433065445 0.37420564433065445\n",
      "celseq2 smartseq2 0.45599884670173463 0.45599884670173463\n",
      "fluidigmc1 fluidigmc1 0.9999981835102115 0.9999981835102115\n",
      "fluidigmc1 inDrop1 0.1696871006304456 0.1696871006304456\n",
      "fluidigmc1 inDrop2 0.18126765490604735 0.18126765490604735\n",
      "fluidigmc1 inDrop3 0.08685203475878159 0.08685203475878159\n",
      "fluidigmc1 inDrop4 0.23559354842825328 0.23559354842825328\n",
      "fluidigmc1 smarter 0.22065943224625018 0.22065943224625018\n",
      "fluidigmc1 smartseq2 0.1468004163449438 0.1468004163449438\n",
      "inDrop1 inDrop1 0.9999954605462251 0.9999954605462251\n",
      "inDrop1 inDrop2 0.3050899128260033 0.3050899128260033\n",
      "inDrop1 inDrop3 0.33065072375232474 0.33065072375232474\n",
      "inDrop1 inDrop4 0.38719597912956816 0.38719597912956816\n",
      "inDrop1 smarter 0.1996602075178746 0.1996602075178746\n",
      "inDrop1 smartseq2 0.20691486871118117 0.20691486871118117\n",
      "inDrop2 inDrop2 0.9999951320144543 0.9999951320144543\n",
      "inDrop2 inDrop3 0.3245474785891594 0.3245474785891594\n",
      "inDrop2 inDrop4 0.5098624802335645 0.5098624802335645\n",
      "inDrop2 smarter 0.35416972357459386 0.35416972357459386\n",
      "inDrop2 smartseq2 0.411376234615734 0.411376234615734\n",
      "inDrop3 inDrop3 0.9999977082387214 0.9999977082387214\n",
      "inDrop3 inDrop4 0.2565535189345938 0.2565535189345938\n",
      "inDrop3 smarter 0.24000712378500066 0.24000712378500066\n",
      "inDrop3 smartseq2 0.33475233158949036 0.33475233158949036\n",
      "inDrop4 inDrop4 0.999992623867157 0.999992623867157\n",
      "inDrop4 smarter 0.2824655952667658 0.2824655952667658\n",
      "inDrop4 smartseq2 0.2803328877491462 0.2803328877491462\n",
      "smarter smarter 0.9999995259498725 0.9999995259498725\n",
      "smarter smartseq2 0.3162589860298002 0.3162589860298002\n",
      "smartseq2 smartseq2 0.999999132613999 0.999999132613999\n"
     ]
    }
   ],
   "source": [
    "for key in d1.keys():\n",
    "    print(f\"{' '.join([str(k) for k in key])} {d1[key]} {d2[key]}\")"
   ]
  },
  {
   "cell_type": "markdown",
   "metadata": {},
   "source": [
    "## No Preprocessing"
   ]
  },
  {
   "cell_type": "code",
   "execution_count": null,
   "metadata": {},
   "outputs": [],
   "source": [
    "run(algorithm=seurat, data=\"data/preprocessed/human_pancreas_norm_complexBatch.h5ad\", verbose=None)\n",
    "run(algorithm=seurat, data=\"data/preprocessed/human_pancreas_norm_complexBatch.h5ad\", verbose=None, combiner=amwjmsi)"
   ]
  },
  {
   "cell_type": "markdown",
   "metadata": {},
   "source": [
    "## Cell Type Preprocessing"
   ]
  },
  {
   "cell_type": "code",
   "execution_count": null,
   "metadata": {},
   "outputs": [],
   "source": [
    "run(algorithm=scanorama, batch_normalize=None, celltype_normalize=scib_normalize, verbose=None)\n",
    "run(algorithm=scanorama, batch_normalize=None, celltype_normalize=scib_normalize, verbose=None, combiner=amwjmsi)"
   ]
  },
  {
   "cell_type": "markdown",
   "metadata": {},
   "source": [
    "## Batch Preprocessing"
   ]
  },
  {
   "cell_type": "code",
   "execution_count": null,
   "metadata": {},
   "outputs": [],
   "source": [
    "run(algorithm=scanorama, batch_normalize=scib_normalize, celltype_normalize=None, verbose=None)\n",
    "run(algorithm=scanorama, batch_normalize=scib_normalize, celltype_normalize=None, verbose=None, combiner=amwjmsi)"
   ]
  },
  {
   "cell_type": "markdown",
   "metadata": {},
   "source": [
    "## Dataset Preprocessing"
   ]
  },
  {
   "cell_type": "code",
   "execution_count": null,
   "metadata": {},
   "outputs": [],
   "source": [
    "run(algorithm=scanorama, dataset_normalize=scib_normalize, verbose=None)\n",
    "run(algorithm=scanorama, dataset_normalize=scib_normalize, verbose=None, combiner=amwjmsi)"
   ]
  }
 ],
 "metadata": {
  "kernelspec": {
   "display_name": "Python 3",
   "language": "python",
   "name": "python3"
  },
  "language_info": {
   "codemirror_mode": {
    "name": "ipython",
    "version": 3
   },
   "file_extension": ".py",
   "mimetype": "text/x-python",
   "name": "python",
   "nbconvert_exporter": "python",
   "pygments_lexer": "ipython3",
   "version": "3.11.4"
  }
 },
 "nbformat": 4,
 "nbformat_minor": 2
}
